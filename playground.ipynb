{
 "cells": [
  {
   "cell_type": "code",
   "execution_count": 7,
   "id": "466107fe",
   "metadata": {},
   "outputs": [],
   "source": [
    "import ir_datasets\n",
    "import pandas as pd\n",
    "\n",
    "ds_test = ir_datasets.load(\"antique/test\")\n",
    "ds_train = ir_datasets.load(\"antique/train\")"
   ]
  },
  {
   "cell_type": "code",
   "execution_count": null,
   "id": "dd1fa4e9",
   "metadata": {},
   "outputs": [
    {
     "name": "stderr",
     "output_type": "stream",
     "text": [
      "[INFO] Please confirm you agree to the authors' data usage agreement found at <https://ciir.cs.umass.edu/downloads/Antique/readme.txt>\n",
      "[INFO] [starting] https://ciir.cs.umass.edu/downloads/Antique/antique-test-queries.txt\n",
      "[INFO] [finished] https://ciir.cs.umass.edu/downloads/Antique/antique-test-queries.txt: [00:00] [11.4kB] [121kB/s]\n",
      "[INFO] If you have a local copy of https://ciir.cs.umass.edu/downloads/Antique/antique-collection.txt, you can symlink it here to avoid downloading it again: C:\\Users\\filip\\.ir_datasets\\downloads\\684f7015aff377062a758e478476aac8\n",
      "[INFO] [starting] https://ciir.cs.umass.edu/downloads/Antique/antique-collection.txt\n",
      "[INFO] [finished] https://ciir.cs.umass.edu/downloads/Antique/antique-collection.txt: [00:28] [93.6MB] [3.28MB/s]\n",
      "                                                                                               \r"
     ]
    },
    {
     "ename": "UnicodeDecodeError",
     "evalue": "'charmap' codec can't decode byte 0x9d in position 2206: character maps to <undefined>",
     "output_type": "error",
     "traceback": [
      "\u001b[31m---------------------------------------------------------------------------\u001b[39m",
      "\u001b[31mUnicodeDecodeError\u001b[39m                        Traceback (most recent call last)",
      "\u001b[36mCell\u001b[39m\u001b[36m \u001b[39m\u001b[32mIn[8]\u001b[39m\u001b[32m, line 2\u001b[39m\n\u001b[32m      1\u001b[39m queries_df = pd.DataFrame(\u001b[38;5;28mlist\u001b[39m(ds_test.queries_iter()))\n\u001b[32m----> \u001b[39m\u001b[32m2\u001b[39m docs_df = pd.DataFrame(\u001b[38;5;28;43mlist\u001b[39;49m\u001b[43m(\u001b[49m\u001b[43mds_test\u001b[49m\u001b[43m.\u001b[49m\u001b[43mdocs_iter\u001b[49m\u001b[43m(\u001b[49m\u001b[43m)\u001b[49m\u001b[43m)\u001b[49m)\n\u001b[32m      3\u001b[39m qrels_df = pd.DataFrame(\u001b[38;5;28mlist\u001b[39m(ds_test.qrels_iter()))\n",
      "\u001b[36mFile \u001b[39m\u001b[32mc:\\Users\\filip\\Projects\\Neural_IR_Expansion\\.venv\\Lib\\site-packages\\ir_datasets\\util\\__init__.py:147\u001b[39m, in \u001b[36mDocstoreSplitter.__next__\u001b[39m\u001b[34m(self)\u001b[39m\n\u001b[32m    146\u001b[39m \u001b[38;5;28;01mdef\u001b[39;00m\u001b[38;5;250m \u001b[39m\u001b[34m__next__\u001b[39m(\u001b[38;5;28mself\u001b[39m):\n\u001b[32m--> \u001b[39m\u001b[32m147\u001b[39m     \u001b[38;5;28;01mreturn\u001b[39;00m \u001b[38;5;28mnext\u001b[39m(\u001b[38;5;28mself\u001b[39m.it)\n",
      "\u001b[36mFile \u001b[39m\u001b[32mc:\\Users\\filip\\Projects\\Neural_IR_Expansion\\.venv\\Lib\\site-packages\\ir_datasets\\formats\\tsv.py:93\u001b[39m, in \u001b[36mTsvIter.__next__\u001b[39m\u001b[34m(self)\u001b[39m\n\u001b[32m     92\u001b[39m \u001b[38;5;28;01mdef\u001b[39;00m\u001b[38;5;250m \u001b[39m\u001b[34m__next__\u001b[39m(\u001b[38;5;28mself\u001b[39m):\n\u001b[32m---> \u001b[39m\u001b[32m93\u001b[39m     line = \u001b[38;5;28mnext\u001b[39m(\u001b[38;5;28mself\u001b[39m.line_iter)\n\u001b[32m     94\u001b[39m     cols = line.rstrip(\u001b[33m'\u001b[39m\u001b[38;5;130;01m\\n\u001b[39;00m\u001b[33m'\u001b[39m).split(\u001b[33m'\u001b[39m\u001b[38;5;130;01m\\t\u001b[39;00m\u001b[33m'\u001b[39m)\n\u001b[32m     95\u001b[39m     num_cols = \u001b[38;5;28mlen\u001b[39m(\u001b[38;5;28mself\u001b[39m.cls._fields)\n",
      "\u001b[36mFile \u001b[39m\u001b[32mc:\\Users\\filip\\Projects\\Neural_IR_Expansion\\.venv\\Lib\\site-packages\\ir_datasets\\formats\\tsv.py:31\u001b[39m, in \u001b[36mFileLineIter.__next__\u001b[39m\u001b[34m(self)\u001b[39m\n\u001b[32m     29\u001b[39m line = \u001b[33m'\u001b[39m\u001b[33m'\u001b[39m\n\u001b[32m     30\u001b[39m \u001b[38;5;28;01mwhile\u001b[39;00m \u001b[38;5;28mself\u001b[39m.pos < \u001b[38;5;28mself\u001b[39m.start:\n\u001b[32m---> \u001b[39m\u001b[32m31\u001b[39m     line = \u001b[38;5;28mself\u001b[39m.stream.readline()\n\u001b[32m     32\u001b[39m     \u001b[38;5;28;01mif\u001b[39;00m line != \u001b[33m'\u001b[39m\u001b[38;5;130;01m\\n\u001b[39;00m\u001b[33m'\u001b[39m:\n\u001b[32m     33\u001b[39m         \u001b[38;5;28mself\u001b[39m.pos += \u001b[32m1\u001b[39m\n",
      "\u001b[36mFile \u001b[39m\u001b[32m~\\AppData\\Roaming\\uv\\python\\cpython-3.11.11-windows-x86_64-none\\Lib\\encodings\\cp1252.py:23\u001b[39m, in \u001b[36mIncrementalDecoder.decode\u001b[39m\u001b[34m(self, input, final)\u001b[39m\n\u001b[32m     22\u001b[39m \u001b[38;5;28;01mdef\u001b[39;00m\u001b[38;5;250m \u001b[39m\u001b[34mdecode\u001b[39m(\u001b[38;5;28mself\u001b[39m, \u001b[38;5;28minput\u001b[39m, final=\u001b[38;5;28;01mFalse\u001b[39;00m):\n\u001b[32m---> \u001b[39m\u001b[32m23\u001b[39m     \u001b[38;5;28;01mreturn\u001b[39;00m codecs.charmap_decode(\u001b[38;5;28minput\u001b[39m,\u001b[38;5;28mself\u001b[39m.errors,decoding_table)[\u001b[32m0\u001b[39m]\n",
      "\u001b[31mUnicodeDecodeError\u001b[39m: 'charmap' codec can't decode byte 0x9d in position 2206: character maps to <undefined>"
     ]
    }
   ],
   "source": [
    "queries_df = pd.DataFrame(list(ds_test.queries_iter()))\n",
    "\n",
    "docs = []\n",
    "for doc in ds_test.docs_iter():\n",
    "    try:\n",
    "        docs.append(doc)\n",
    "    except UnicodeDecodeError as e:\n",
    "        print(\"Skipping a problematic doc:\", e)\n",
    "\n",
    "docs_df = pd.DataFrame(docs)\n",
    "\n",
    "qrels_df = pd.DataFrame(list(ds_test.qrels_iter()))"
   ]
  },
  {
   "cell_type": "code",
   "execution_count": null,
   "id": "4b5124a6",
   "metadata": {},
   "outputs": [],
   "source": []
  }
 ],
 "metadata": {
  "kernelspec": {
   "display_name": "Neural_IR_Expansion",
   "language": "python",
   "name": "python3"
  },
  "language_info": {
   "codemirror_mode": {
    "name": "ipython",
    "version": 3
   },
   "file_extension": ".py",
   "mimetype": "text/x-python",
   "name": "python",
   "nbconvert_exporter": "python",
   "pygments_lexer": "ipython3",
   "version": "3.11.11"
  }
 },
 "nbformat": 4,
 "nbformat_minor": 5
}
